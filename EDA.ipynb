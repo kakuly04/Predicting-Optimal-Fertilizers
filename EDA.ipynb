{
 "cells": [
  {
   "cell_type": "code",
   "execution_count": 7,
   "id": "32e0aeef",
   "metadata": {},
   "outputs": [],
   "source": [
    "import pandas as pd\n",
    "import numpy as np\n",
    "import zipfile"
   ]
  },
  {
   "cell_type": "code",
   "execution_count": 8,
   "id": "e80c4256",
   "metadata": {},
   "outputs": [],
   "source": [
    "with zipfile.ZipFile('playground-series-s5e6.zip','r') as data:\n",
    "    data.extractall('dataset')"
   ]
  },
  {
   "cell_type": "code",
   "execution_count": 28,
   "id": "f0ddf06e",
   "metadata": {},
   "outputs": [
    {
     "data": {
      "text/html": [
       "<div>\n",
       "<style scoped>\n",
       "    .dataframe tbody tr th:only-of-type {\n",
       "        vertical-align: middle;\n",
       "    }\n",
       "\n",
       "    .dataframe tbody tr th {\n",
       "        vertical-align: top;\n",
       "    }\n",
       "\n",
       "    .dataframe thead th {\n",
       "        text-align: right;\n",
       "    }\n",
       "</style>\n",
       "<table border=\"1\" class=\"dataframe\">\n",
       "  <thead>\n",
       "    <tr style=\"text-align: right;\">\n",
       "      <th></th>\n",
       "      <th>id</th>\n",
       "      <th>Temparature</th>\n",
       "      <th>Humidity</th>\n",
       "      <th>Moisture</th>\n",
       "      <th>Soil Type</th>\n",
       "      <th>Crop Type</th>\n",
       "      <th>Nitrogen</th>\n",
       "      <th>Potassium</th>\n",
       "      <th>Phosphorous</th>\n",
       "      <th>Fertilizer Name</th>\n",
       "    </tr>\n",
       "  </thead>\n",
       "  <tbody>\n",
       "    <tr>\n",
       "      <th>0</th>\n",
       "      <td>0</td>\n",
       "      <td>37</td>\n",
       "      <td>70</td>\n",
       "      <td>36</td>\n",
       "      <td>Clayey</td>\n",
       "      <td>Sugarcane</td>\n",
       "      <td>36</td>\n",
       "      <td>4</td>\n",
       "      <td>5</td>\n",
       "      <td>28-28</td>\n",
       "    </tr>\n",
       "    <tr>\n",
       "      <th>1</th>\n",
       "      <td>1</td>\n",
       "      <td>27</td>\n",
       "      <td>69</td>\n",
       "      <td>65</td>\n",
       "      <td>Sandy</td>\n",
       "      <td>Millets</td>\n",
       "      <td>30</td>\n",
       "      <td>6</td>\n",
       "      <td>18</td>\n",
       "      <td>28-28</td>\n",
       "    </tr>\n",
       "    <tr>\n",
       "      <th>2</th>\n",
       "      <td>2</td>\n",
       "      <td>29</td>\n",
       "      <td>63</td>\n",
       "      <td>32</td>\n",
       "      <td>Sandy</td>\n",
       "      <td>Millets</td>\n",
       "      <td>24</td>\n",
       "      <td>12</td>\n",
       "      <td>16</td>\n",
       "      <td>17-17-17</td>\n",
       "    </tr>\n",
       "    <tr>\n",
       "      <th>3</th>\n",
       "      <td>3</td>\n",
       "      <td>35</td>\n",
       "      <td>62</td>\n",
       "      <td>54</td>\n",
       "      <td>Sandy</td>\n",
       "      <td>Barley</td>\n",
       "      <td>39</td>\n",
       "      <td>12</td>\n",
       "      <td>4</td>\n",
       "      <td>10-26-26</td>\n",
       "    </tr>\n",
       "    <tr>\n",
       "      <th>4</th>\n",
       "      <td>4</td>\n",
       "      <td>35</td>\n",
       "      <td>58</td>\n",
       "      <td>43</td>\n",
       "      <td>Red</td>\n",
       "      <td>Paddy</td>\n",
       "      <td>37</td>\n",
       "      <td>2</td>\n",
       "      <td>16</td>\n",
       "      <td>DAP</td>\n",
       "    </tr>\n",
       "  </tbody>\n",
       "</table>\n",
       "</div>"
      ],
      "text/plain": [
       "   id  Temparature  Humidity  Moisture Soil Type  Crop Type  Nitrogen  \\\n",
       "0   0           37        70        36    Clayey  Sugarcane        36   \n",
       "1   1           27        69        65     Sandy    Millets        30   \n",
       "2   2           29        63        32     Sandy    Millets        24   \n",
       "3   3           35        62        54     Sandy     Barley        39   \n",
       "4   4           35        58        43       Red      Paddy        37   \n",
       "\n",
       "   Potassium  Phosphorous Fertilizer Name  \n",
       "0          4            5           28-28  \n",
       "1          6           18           28-28  \n",
       "2         12           16        17-17-17  \n",
       "3         12            4        10-26-26  \n",
       "4          2           16             DAP  "
      ]
     },
     "execution_count": 28,
     "metadata": {},
     "output_type": "execute_result"
    }
   ],
   "source": [
    "train_df = pd.read_csv('dataset/train.csv')\n",
    "train_df.head()\n",
    "#train_df.shape 750,000 rows"
   ]
  },
  {
   "cell_type": "code",
   "execution_count": null,
   "id": "07a7e98e",
   "metadata": {},
   "outputs": [
    {
     "name": "stdout",
     "output_type": "stream",
     "text": [
      "Unique Soil Types: ['Clayey' 'Sandy' 'Red' 'Loamy' 'Black']\n",
      "Fertiliser Labels: ['28-28' '17-17-17' '10-26-26' 'DAP' '20-20' '14-35-14' 'Urea']\n",
      "Crop Type Labels: ['Sugarcane' 'Millets' 'Barley' 'Paddy' 'Pulses' 'Tobacco' 'Ground Nuts'\n",
      " 'Maize' 'Cotton' 'Wheat' 'Oil seeds']\n",
      "Potassium Levels: [ 4  6 12  2  0 15 17  3 19 16  1 13  7  9 14  8 18 11  5 10]\n",
      "Humidity Levels: [70 69 63 62 58 59 51 50 61 60 57 72 68 55 52 64 71 56 66 54 65 67 53]\n",
      "Moisture Levels: [36 65 32 54 43 29 53 44 35 60 27 42 57 47 50 56 33 37 49 39 30 46 61 64\n",
      " 26 34 51 48 28 38 52 62 55 40 25 59 31 45 58 41 63]\n",
      "Phosphrous Levels: [ 5 18 16  4  9 22 35 29  2 12 19 39 30 32 34 40 28 33  0  7 13 24 21 27\n",
      " 17 26  1 36 23 11 10 20 15 41  3 31  6 14 25 42  8 38 37]\n",
      "Nitrogen Levels: [36 30 24 39 37 10 26 19 25 18 34 42 41 15  4  8  6 31 29 20 28 17 27  7\n",
      " 12 14 35 33  9 16 40 21 23 32 22 11 38 13  5]\n"
     ]
    }
   ],
   "source": [
    "soil_labels = train_df['Soil Type'].unique()\n",
    "fertiliser_labels = train_df['Fertilizer Name'].unique()\n",
    "croptype_labels = train_df['Crop Type'].unique()\n",
    "pottasium_labels = train_df['Potassium'].unique()\n",
    "humidity_labels = train_df['Humidity'].unique()\n",
    "moisture_labels = train_df['Moisture'].unique()\n",
    "phosphrous_labels = train_df['Phosphorous'].unique()\n",
    "nitrogen_labels = train_df['Nitrogen'].unique()\n",
    "\n",
    "print(f\"Unique Soil Types: {soil_labels}\") #5 types of soil\n",
    "print(f\"Fertiliser Labels: {fertiliser_labels}\") #7 labels to classify\n",
    "print(f\"Crop Type Labels: {croptype_labels}\") #11 Crop Types\n",
    "print(f\"Potassium Levels: {pottasium_labels}\") \n",
    "print(f\"Humidity Levels: {humidity_labels}\") \n",
    "print(f\"Moisture Levels: {moisture_labels}\")\n",
    "print(f\"Phosphrous Levels: {phosphrous_labels}\")\n",
    "print(f\"Nitrogen Levels: {nitrogen_labels}\")"
   ]
  }
 ],
 "metadata": {
  "kernelspec": {
   "display_name": ".conda",
   "language": "python",
   "name": "python3"
  },
  "language_info": {
   "codemirror_mode": {
    "name": "ipython",
    "version": 3
   },
   "file_extension": ".py",
   "mimetype": "text/x-python",
   "name": "python",
   "nbconvert_exporter": "python",
   "pygments_lexer": "ipython3",
   "version": "3.11.11"
  }
 },
 "nbformat": 4,
 "nbformat_minor": 5
}
